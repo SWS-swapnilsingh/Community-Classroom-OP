{
  "nbformat": 4,
  "nbformat_minor": 0,
  "metadata": {
    "colab": {
      "provenance": [],
      "authorship_tag": "ABX9TyOg5kQq1gXGwo+SmQ8KEfrO",
      "include_colab_link": true
    },
    "kernelspec": {
      "name": "python3",
      "display_name": "Python 3"
    },
    "language_info": {
      "name": "python"
    }
  },
  "cells": [
    {
      "cell_type": "markdown",
      "metadata": {
        "id": "view-in-github",
        "colab_type": "text"
      },
      "source": [
        "<a href=\"https://colab.research.google.com/github/SWS-swapnilsingh/Community-Classroom-OP/blob/main/week5_tds_LLM.ipynb\" target=\"_parent\"><img src=\"https://colab.research.google.com/assets/colab-badge.svg\" alt=\"Open In Colab\"/></a>"
      ]
    },
    {
      "cell_type": "code",
      "execution_count": null,
      "metadata": {
        "id": "szcUKlFeQOlI"
      },
      "outputs": [],
      "source": [
        "# Fact : Sun is bright.\n",
        "# Subjectivity : 0\n",
        "\n",
        "# View : I don't like sun.\n",
        "# Subjectivity : 100"
      ]
    },
    {
      "cell_type": "code",
      "source": [
        "# sentiment : Positive, negative, neutral"
      ],
      "metadata": {
        "id": "8D6zuV-URRxm"
      },
      "execution_count": null,
      "outputs": []
    },
    {
      "cell_type": "code",
      "source": [
        "from textblob import TextBlob"
      ],
      "metadata": {
        "id": "Y5D8sjr_R7hp"
      },
      "execution_count": 1,
      "outputs": []
    },
    {
      "cell_type": "code",
      "source": [
        "text = str(input())\n",
        "\n",
        "blob = TextBlob(text)\n",
        "blob.sentiment"
      ],
      "metadata": {
        "colab": {
          "base_uri": "https://localhost:8080/"
        },
        "id": "QXY07D_jSM8u",
        "outputId": "c7d33737-9594-4147-f690-0e03756407f4"
      },
      "execution_count": 7,
      "outputs": [
        {
          "name": "stdout",
          "output_type": "stream",
          "text": [
            "I really hate rom com.\n"
          ]
        },
        {
          "output_type": "execute_result",
          "data": {
            "text/plain": [
              "Sentiment(polarity=-0.8, subjectivity=0.9)"
            ]
          },
          "metadata": {},
          "execution_count": 7
        }
      ]
    },
    {
      "cell_type": "code",
      "source": [
        "text = str(input())\n",
        "\n",
        "blob = TextBlob(text)\n",
        "blob.sentiment"
      ],
      "metadata": {
        "colab": {
          "base_uri": "https://localhost:8080/"
        },
        "id": "_mYGbHzZTNCn",
        "outputId": "ca1eedf0-88f7-4eae-b79e-e5b1ff9473a3"
      },
      "execution_count": 8,
      "outputs": [
        {
          "name": "stdout",
          "output_type": "stream",
          "text": [
            "Apple is red.\n"
          ]
        },
        {
          "output_type": "execute_result",
          "data": {
            "text/plain": [
              "Sentiment(polarity=0.0, subjectivity=0.0)"
            ]
          },
          "metadata": {},
          "execution_count": 8
        }
      ]
    },
    {
      "cell_type": "code",
      "source": [
        "# subjectivity range [0, 1]    when 0 then it is fact and when 1 then it is opinion"
      ],
      "metadata": {
        "id": "Dc-HPOr8SfA-"
      },
      "execution_count": null,
      "outputs": []
    },
    {
      "cell_type": "code",
      "source": [
        "# polarity: is just sentiment\n",
        "# -1 negative\n",
        "# 0 neutral\n",
        "# +1 positive"
      ],
      "metadata": {
        "id": "IAz5w78tTU4p"
      },
      "execution_count": 10,
      "outputs": []
    },
    {
      "cell_type": "code",
      "source": [
        "p_text = \"Naren sir is  a very very good person.\"\n",
        "neu_text = \"This is a dog.\"\n",
        "n_text = \"Amit was a very bad monster during paradox\""
      ],
      "metadata": {
        "id": "ZTQPiGGJT-Fw"
      },
      "execution_count": 15,
      "outputs": []
    },
    {
      "cell_type": "code",
      "source": [
        "blob = TextBlob(p_text)\n",
        "blob.sentiment"
      ],
      "metadata": {
        "colab": {
          "base_uri": "https://localhost:8080/"
        },
        "id": "S6PulIwhUlS6",
        "outputId": "27804369-c777-4110-a800-de16fcae4b5f"
      },
      "execution_count": 12,
      "outputs": [
        {
          "output_type": "execute_result",
          "data": {
            "text/plain": [
              "Sentiment(polarity=0.9099999999999999, subjectivity=0.7800000000000001)"
            ]
          },
          "metadata": {},
          "execution_count": 12
        }
      ]
    },
    {
      "cell_type": "code",
      "source": [
        "blob = TextBlob(neu_text)\n",
        "blob.sentiment"
      ],
      "metadata": {
        "colab": {
          "base_uri": "https://localhost:8080/"
        },
        "id": "okk7I8AOUtqL",
        "outputId": "62361320-2310-4e42-8529-0e490697eb67"
      },
      "execution_count": 14,
      "outputs": [
        {
          "output_type": "execute_result",
          "data": {
            "text/plain": [
              "Sentiment(polarity=0.0, subjectivity=0.0)"
            ]
          },
          "metadata": {},
          "execution_count": 14
        }
      ]
    },
    {
      "cell_type": "code",
      "source": [
        "blob = TextBlob(n_text)\n",
        "blob.sentiment"
      ],
      "metadata": {
        "colab": {
          "base_uri": "https://localhost:8080/"
        },
        "id": "-0oqYsJLUuRf",
        "outputId": "e5fbc650-bd03-4f4f-9bec-38e549d4a324"
      },
      "execution_count": 16,
      "outputs": [
        {
          "output_type": "execute_result",
          "data": {
            "text/plain": [
              "Sentiment(polarity=-0.9099999999999998, subjectivity=0.8666666666666667)"
            ]
          },
          "metadata": {},
          "execution_count": 16
        }
      ]
    },
    {
      "cell_type": "code",
      "source": [
        "l = [\"Naren sir is  a very very good person.\",\n",
        "\"This is a dog.\",\n",
        "\"Amit was a very bad monster during paradox\"]\n",
        "\n",
        "for sentence in l:\n",
        "    blob = TextBlob(sentence)\n",
        "    print(f'{sentence} : {blob.sentiment}')"
      ],
      "metadata": {
        "colab": {
          "base_uri": "https://localhost:8080/"
        },
        "id": "MD0nCWfGV2OP",
        "outputId": "c138f9fa-6c3c-4c56-f2ea-f936d0b73dd6"
      },
      "execution_count": 19,
      "outputs": [
        {
          "output_type": "stream",
          "name": "stdout",
          "text": [
            "Naren sir is  a very very good person. : Sentiment(polarity=0.9099999999999999, subjectivity=0.7800000000000001)\n",
            "This is a dog. : Sentiment(polarity=0.0, subjectivity=0.0)\n",
            "Amit was a very bad monster during paradox : Sentiment(polarity=-0.9099999999999998, subjectivity=0.8666666666666667)\n"
          ]
        }
      ]
    },
    {
      "cell_type": "code",
      "source": [
        "!pip install vaderSentiment"
      ],
      "metadata": {
        "colab": {
          "base_uri": "https://localhost:8080/"
        },
        "collapsed": true,
        "id": "3H0A2H0MYz2f",
        "outputId": "7a10b750-4d06-4c81-d36e-7bc3b3608539"
      },
      "execution_count": 21,
      "outputs": [
        {
          "output_type": "stream",
          "name": "stdout",
          "text": [
            "Collecting vaderSentiment\n",
            "  Downloading vaderSentiment-3.3.2-py2.py3-none-any.whl (125 kB)\n",
            "\u001b[?25l     \u001b[90m━━━━━━━━━━━━━━━━━━━━━━━━━━━━━━━━━━━━━━━━\u001b[0m \u001b[32m0.0/126.0 kB\u001b[0m \u001b[31m?\u001b[0m eta \u001b[36m-:--:--\u001b[0m\r\u001b[2K     \u001b[91m━━━━━━━━━━━━━━━━━━━━━━━━━━━━━\u001b[0m\u001b[90m╺\u001b[0m\u001b[90m━━━━━━━━━━\u001b[0m \u001b[32m92.2/126.0 kB\u001b[0m \u001b[31m2.6 MB/s\u001b[0m eta \u001b[36m0:00:01\u001b[0m\r\u001b[2K     \u001b[90m━━━━━━━━━━━━━━━━━━━━━━━━━━━━━━━━━━━━━━━━\u001b[0m \u001b[32m126.0/126.0 kB\u001b[0m \u001b[31m2.6 MB/s\u001b[0m eta \u001b[36m0:00:00\u001b[0m\n",
            "\u001b[?25hRequirement already satisfied: requests in /usr/local/lib/python3.10/dist-packages (from vaderSentiment) (2.31.0)\n",
            "Requirement already satisfied: charset-normalizer<4,>=2 in /usr/local/lib/python3.10/dist-packages (from requests->vaderSentiment) (3.3.2)\n",
            "Requirement already satisfied: idna<4,>=2.5 in /usr/local/lib/python3.10/dist-packages (from requests->vaderSentiment) (3.7)\n",
            "Requirement already satisfied: urllib3<3,>=1.21.1 in /usr/local/lib/python3.10/dist-packages (from requests->vaderSentiment) (2.0.7)\n",
            "Requirement already satisfied: certifi>=2017.4.17 in /usr/local/lib/python3.10/dist-packages (from requests->vaderSentiment) (2024.6.2)\n",
            "Installing collected packages: vaderSentiment\n",
            "Successfully installed vaderSentiment-3.3.2\n"
          ]
        }
      ]
    },
    {
      "cell_type": "code",
      "source": [
        "!pip install vaderSentiment\n",
        "from vaderSentiment.vaderSentiment import SentimentIntensityAnalyzer\n",
        "\n",
        "# Initialize the VADER sentiment analyzer\n",
        "analyzer = SentimentIntensityAnalyzer()\n",
        "\n",
        "# Analyze the sentiment of the sentence\n",
        "sentence = \"someone is happily crying\"\n",
        "sentiment_score = analyzer.polarity_scores(sentence)\n",
        "\n",
        "# Print the sentiment score\n",
        "print(sentiment_score)"
      ],
      "metadata": {
        "colab": {
          "base_uri": "https://localhost:8080/"
        },
        "id": "GHyAZyozYtDJ",
        "outputId": "037198ac-4c05-4fce-8f30-9248a55ec6bb"
      },
      "execution_count": 22,
      "outputs": [
        {
          "output_type": "stream",
          "name": "stdout",
          "text": [
            "{'neg': 0.356, 'neu': 0.23, 'pos': 0.414, 'compound': 0.128}\n"
          ]
        }
      ]
    }
  ]
}